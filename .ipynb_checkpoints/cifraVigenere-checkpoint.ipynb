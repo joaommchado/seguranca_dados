{
 "cells": [
  {
   "cell_type": "code",
   "execution_count": 35,
   "id": "55804776-b14a-47ce-aff8-e13b339d852b",
   "metadata": {},
   "outputs": [
    {
     "name": "stdin",
     "output_type": "stream",
     "text": [
      " djfsdofjsdp\n",
      " dsf\n"
     ]
    },
    {
     "name": "stdout",
     "output_type": "stream",
     "text": [
      "{'1': 'A', '2': 'B', '3': 'C', '4': 'D'}\n",
      "C\n"
     ]
    }
   ],
   "source": [
    "#input de dados\n",
    "chave = input()\n",
    "texto = input()\n",
    "\n",
    "#Gerar a chave automatica\n",
    "def repetir_senha(chave, texto):\n",
    "    nova_senha = chave * int((len(texto)/len(chave)))\n",
    "    if len(nova_senha):\n",
    "        nova_senha += chave[:len(nova_senha)]\n",
    "        return nova_senha.upper()\n",
    "    return chave.upper()\n",
    "\n",
    "def devolver_letra(letra_inicial, letra_final):\n",
    "    if letra_inicial == 'A':\n",
    "        tabela = {'A': 'A', 'B': 'B', 'C': 'C', 'D': 'D', 'F': 'F',\n",
    "                  'G': 'G', 'H': 'H', 'I': 'I', 'J': 'J', 'K': 'K',\n",
    "                  'L': 'L', 'M': 'M', 'N': 'N', 'O': 'O', 'P': 'P',\n",
    "                  'Q': 'Q', 'R': 'R', 'S': 'S', 'T': 'T', 'U': 'U', \n",
    "                  'V': 'V','W': 'W', 'X': 'X', 'Y': 'Y', 'Z': 'Z' }\n",
    "    if letra_inicial == 'B':\n",
    "        tabela = {'A': 'B', 'B': 'C', 'C': 'D', 'D': 'E', 'F': 'G',\n",
    "                  'G': 'H', 'H': 'I', 'I': 'J', 'J': 'K', 'K': 'L',\n",
    "                  'L': 'L', 'M': 'M', 'N': 'N', 'O': 'O', 'P': 'P',\n",
    "                  'Q': 'R', 'R': 'S', 'S': 'T', 'T': 'U', 'U': 'V', \n",
    "                  'V': 'W','W': 'X', 'X': 'Y', 'Y': 'Z', 'Z': 'A' }\n",
    "    if letra_inicial == '':\n",
    "        tabela = {'A': 'C 'B': '', 'C': '', 'D': '', 'F': '',\n",
    "                  'G': '', 'H': '', 'I': '', 'J': '', 'K': '',\n",
    "                  'L': '', 'M': '', 'N': '', 'O': '', 'P': '',\n",
    "                  'Q': '', 'R': '', 'S': '', 'T': '', 'U': '', \n",
    "                  'V': '','W': '', 'X': '', 'Y': '', 'Z': '' }\n",
    "devolver_letra('A', 'a'FZ"
   ]
  },
  {
   "cell_type": "code",
   "execution_count": 30,
   "id": "92ccaaf6-0fc1-4fb4-9f96-e9903f7576e1",
   "metadata": {},
   "outputs": [
    {
     "name": "stdout",
     "output_type": "stream",
     "text": [
      "TESTETESTE\n"
     ]
    }
   ],
   "source": [
    "print(repetir_senha(chave, texto))"
   ]
  }
 ],
 "metadata": {
  "kernelspec": {
   "display_name": "Python 3 (ipykernel)",
   "language": "python",
   "name": "python3"
  },
  "language_info": {
   "codemirror_mode": {
    "name": "ipython",
    "version": 3
   },
   "file_extension": ".py",
   "mimetype": "text/x-python",
   "name": "python",
   "nbconvert_exporter": "python",
   "pygments_lexer": "ipython3",
   "version": "3.10.1"
  }
 },
 "nbformat": 4,
 "nbformat_minor": 5
}
