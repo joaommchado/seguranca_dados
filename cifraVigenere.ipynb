{
 "cells": [
  {
   "cell_type": "code",
   "execution_count": 63,
   "id": "55804776-b14a-47ce-aff8-e13b339d852b",
   "metadata": {},
   "outputs": [],
   "source": [
    "#Gerar a chave automatica\n",
    "def repetir_senha(chave, texto):\n",
    "    nova_senha = chave * int((len(texto)/len(chave)))\n",
    "    if len(nova_senha):\n",
    "        nova_senha += chave[:len(nova_senha)]\n",
    "        return nova_senha.upper()\n",
    "    return chave.upper()\n",
    "\n",
    "def devolver_valor(letra):\n",
    "    return ord(letra)\n",
    "\n",
    "def encriptar():\n",
    "    #variaveis\n",
    "    chave = input()\n",
    "    texto = input()\n",
    "    chave = repetir_senha(chave, texto)\n",
    "    texto_cifrado = ''\n",
    "    chave_inteiro = []\n",
    "    texto_inteiro = []\n",
    "    \n",
    "    #gerar valor vetor inteiro chave\n",
    "    for i in range(len(chave)):\n",
    "        chave_inteiro.append(devolver_valor(chave[i]))\n",
    "    \n",
    "    #gerar valor vetor inteiro para texto\n",
    "    for i in range(len(texto)):\n",
    "        texto_inteiro.append(devolver_valor(chave[i]))\n",
    "    \n",
    "    #iniciar criptografia\n",
    "    for i in range(len(texto)):\n",
    "        valor = (texto_inteiro[i] + chave_inteiro[i % len(chave)]) % 26 \n",
    "        texto_cifrado += chr(valor + 65)\n",
    "    \n",
    "    return texto_cifrado\n",
    "    "
   ]
  },
  {
   "cell_type": "code",
   "execution_count": 64,
   "id": "92ccaaf6-0fc1-4fb4-9f96-e9903f7576e1",
   "metadata": {},
   "outputs": [
    {
     "name": "stdin",
     "output_type": "stream",
     "text": [
      " teste\n",
      " oi como vc ta?\n"
     ]
    },
    {
     "name": "stdout",
     "output_type": "stream",
     "text": [
      "MIKMIMIKMIMIKM\n"
     ]
    }
   ],
   "source": [
    "print(encriptar())"
   ]
  }
 ],
 "metadata": {
  "kernelspec": {
   "display_name": "Python 3 (ipykernel)",
   "language": "python",
   "name": "python3"
  },
  "language_info": {
   "codemirror_mode": {
    "name": "ipython",
    "version": 3
   },
   "file_extension": ".py",
   "mimetype": "text/x-python",
   "name": "python",
   "nbconvert_exporter": "python",
   "pygments_lexer": "ipython3",
   "version": "3.10.1"
  }
 },
 "nbformat": 4,
 "nbformat_minor": 5
}
